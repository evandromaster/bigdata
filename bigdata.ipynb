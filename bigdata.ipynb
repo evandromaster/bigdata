{
 "cells": [
  {
   "cell_type": "code",
   "execution_count": 2,
   "metadata": {},
   "outputs": [],
   "source": [
    "import pandas as pd\n",
    "import numpy as np\n",
    "import gc, csv\n",
    "import os,re"
   ]
  },
  {
   "cell_type": "code",
   "execution_count": null,
   "metadata": {},
   "outputs": [],
   "source": [
    "dir = os.getcwd()\n",
    "rats_files_names = os.listdir(dir+'/files/RAT')\n",
    "rat_pattern = re.compile('REDS_RAT_2')\n",
    "rat_viatura_pattern = re.compile('RAT_VIATURA')\n",
    "rat_efetivo_pattern = re.compile('RAT_EFETIVO')\n",
    "rat_produtividade_pattern = re.compile('RAT_Produtividade')\n",
    "\n",
    "rats_files = list()\n",
    "rats_viatura_files = list()\n",
    "rats_efetivo_files = list()\n",
    "rats_produtividade_files = list()"
   ]
  }
 ],
 "metadata": {
  "kernelspec": {
   "display_name": "Python 3",
   "language": "python",
   "name": "python3"
  },
  "language_info": {
   "codemirror_mode": {
    "name": "ipython",
    "version": 3
   },
   "file_extension": ".py",
   "mimetype": "text/x-python",
   "name": "python",
   "nbconvert_exporter": "python",
   "pygments_lexer": "ipython3",
   "version": "3.7.6"
  }
 },
 "nbformat": 4,
 "nbformat_minor": 4
}
